{
 "cells": [
  {
   "cell_type": "code",
   "execution_count": null,
   "id": "dbf15785",
   "metadata": {},
   "outputs": [
    {
     "name": "stdout",
     "output_type": "stream",
     "text": [
      "Initial balance : 1000\n",
      "1\n",
      "Step: 1/3 | Price: 123.47061157226562 | Balance: 1000.00 | Shares: 0 | Net Worth: 1000.00\n",
      "2\n",
      "Step: 2/3 | Price: 124.74412536621094 | Balance: 875.26 | Shares: 1 | Net Worth: 1000.00\n",
      "3\n",
      "Step: 3/3 | Price: 123.42125701904295 | Balance: 998.68 | Shares: 0 | Net Worth: 998.68\n",
      "\n",
      " Test Finished: 3 steps, Total Reward: -1.32\n"
     ]
    }
   ],
   "source": [
    "from importlib import reload\n",
    "import stock_env\n",
    "reload(stock_env)\n",
    "from stock_env import StockTradingEnv\n",
    "import pandas as pd\n",
    "import numpy as np\n",
    "import sys\n",
    "import os\n",
    "sys.path.append(os.path.abspath('../'))  # for imports \n",
    "from stock_env import StockTradingEnv\n",
    "# Load preprocessed data\n",
    "data = pd.read_csv('../data/preprocessed_data.csv')  \n",
    "env = StockTradingEnv(data)  #init balance default 1000\n",
    "state = env.reset()\n",
    "env.render()\n",
    "\n",
    "done = False\n",
    "total_reward = 0\n",
    "\n",
    "while not done:\n",
    "    action = np.random.choice([0, 1, 2])  # 0: hold, 1: buy, 2: sell\n",
    "    next_state, reward, done, _ = env.step(action)\n",
    "    total_reward += reward\n",
    "    env.render()  # Visual feedback per step\n",
    "\n",
    "print(f\"\\n Test Finished: {env.current_step} steps, Total Reward: {total_reward:.2f}\")\n"
   ]
  }
 ],
 "metadata": {
  "kernelspec": {
   "display_name": "Python 3",
   "language": "python",
   "name": "python3"
  },
  "language_info": {
   "codemirror_mode": {
    "name": "ipython",
    "version": 3
   },
   "file_extension": ".py",
   "mimetype": "text/x-python",
   "name": "python",
   "nbconvert_exporter": "python",
   "pygments_lexer": "ipython3",
   "version": "3.12.1"
  }
 },
 "nbformat": 4,
 "nbformat_minor": 5
}
